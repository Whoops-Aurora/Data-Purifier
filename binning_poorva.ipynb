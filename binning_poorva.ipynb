{
 "cells": [
  {
   "cell_type": "markdown",
   "metadata": {},
   "source": [
    "# EDA COURSE PROJECT\n"
   ]
  },
  {
   "cell_type": "markdown",
   "metadata": {},
   "source": [
    "# Data science student championship"
   ]
  },
  {
   "cell_type": "markdown",
   "metadata": {},
   "source": [
    "# Team Details"
   ]
  },
  {
   "cell_type": "code",
   "execution_count": null,
   "metadata": {},
   "outputs": [],
   "source": [
    "import pandas as pd\n",
    "import numpy as np\n",
    "%matplotlib inline\n",
    "import matplotlib as plt\n",
    "from matplotlib import pyplot\n",
    "import numpy as np\n",
    "import seaborn as sns\n"
   ]
  },
  {
   "cell_type": "code",
   "execution_count": null,
   "metadata": {},
   "outputs": [],
   "source": [
    "data=[{'Name':'Amaan Khan','Roll No':240,'USN':'01FE21BCS212'},{'Name':'Adwait S','Roll No':241,'USN':'01FE21BCS222'},{'Name':'Poorva Khatawate','Roll No':248,'USN':'01FE21BCS302'},\n",
    "     {'Name':'Shubhashri Shetty','Roll No':249,'USN':'01FE21BCS143'}]\n",
    "details=pd.DataFrame(data)\n",
    "details"
   ]
  },
  {
   "cell_type": "markdown",
   "metadata": {},
   "source": [
    "# Data Import"
   ]
  },
  {
   "cell_type": "code",
   "execution_count": null,
   "metadata": {},
   "outputs": [],
   "source": [
    "India_test=pd.read_csv('India_test.csv')\n",
    "India_train=pd.read_csv('India_train.csv')\n",
    "submission=pd.read_csv('submission.csv')\n",
    "USA_train=pd.read_csv('USA_train.csv')\n",
    "USA_test=pd.read_csv('USA_test.csv')\n",
    "USA_Commodity_prices=pd.read_csv('USA_Commodity_prices.csv')\n",
    "India_soil_rainfall_30years=pd.read_csv('India_soil_rainfall_30years.csv')"
   ]
  },
  {
   "cell_type": "code",
   "execution_count": null,
   "metadata": {},
   "outputs": [],
   "source": [
    "India_train"
   ]
  },
  {
   "cell_type": "code",
   "execution_count": null,
   "metadata": {},
   "outputs": [],
   "source": [
    "India_train.info()"
   ]
  },
  {
   "cell_type": "code",
   "execution_count": null,
   "metadata": {},
   "outputs": [],
   "source": [
    "India_train.describe()"
   ]
  },
  {
   "cell_type": "code",
   "execution_count": null,
   "metadata": {},
   "outputs": [],
   "source": [
    "India_test.info()"
   ]
  },
  {
   "cell_type": "code",
   "execution_count": null,
   "metadata": {},
   "outputs": [],
   "source": [
    "India_train.describe()"
   ]
  },
  {
   "cell_type": "code",
   "execution_count": null,
   "metadata": {},
   "outputs": [],
   "source": [
    "USA_test.info()"
   ]
  },
  {
   "cell_type": "code",
   "execution_count": null,
   "metadata": {},
   "outputs": [],
   "source": [
    "USA_train.info()"
   ]
  },
  {
   "cell_type": "code",
   "execution_count": null,
   "metadata": {},
   "outputs": [],
   "source": [
    "USA_test.describe()"
   ]
  },
  {
   "cell_type": "code",
   "execution_count": null,
   "metadata": {},
   "outputs": [],
   "source": [
    "USA_train.describe()"
   ]
  },
  {
   "cell_type": "code",
   "execution_count": null,
   "metadata": {},
   "outputs": [],
   "source": [
    "India_soil_rainfall_30years.info()"
   ]
  },
  {
   "cell_type": "code",
   "execution_count": null,
   "metadata": {},
   "outputs": [],
   "source": [
    "India_soil_rainfall_30years.describe()"
   ]
  },
  {
   "cell_type": "markdown",
   "metadata": {},
   "source": [
    "# Data Cleaning"
   ]
  },
  {
   "cell_type": "markdown",
   "metadata": {},
   "source": [
    "# India_train"
   ]
  },
  {
   "cell_type": "code",
   "execution_count": null,
   "metadata": {},
   "outputs": [],
   "source": [
    "India_train.isnull().sum()"
   ]
  },
  {
   "cell_type": "code",
   "execution_count": null,
   "metadata": {},
   "outputs": [],
   "source": [
    "India_train= India_train.astype(float, errors='ignore')\n",
    "India_train.dtypes"
   ]
  },
  {
   "cell_type": "code",
   "execution_count": null,
   "metadata": {},
   "outputs": [],
   "source": [
    "#Calculate the mean value for the \"COTTON AREA (1000 ha)\" column \n",
    "avg_cotton_area = India_train[\"COTTON AREA (1000 ha)\"].astype(\"float\").mean(axis=0)\n",
    "India_train[\"COTTON AREA (1000 ha)\"].replace(np.nan, avg_cotton_area, inplace=True)"
   ]
  },
  {
   "cell_type": "code",
   "execution_count": null,
   "metadata": {},
   "outputs": [],
   "source": [
    "#Calculate the mean value for the \"COTTON PRODUCTION (1000 tons)\" column \n",
    "avg_cotton_prod = India_train[\"COTTON PRODUCTION (1000 tons)\"].astype(\"float\").mean(axis=0)\n",
    "India_train[\"COTTON PRODUCTION (1000 tons)\"].replace(np.nan, avg_cotton_prod, inplace=True)"
   ]
  },
  {
   "cell_type": "code",
   "execution_count": null,
   "metadata": {},
   "outputs": [],
   "source": [
    "#Calculate the mean value for the \"JANUARY PERCIPITATION (Millimeters)\" column \n",
    "avg_jan_prec = India_train[\"JANUARY PERCIPITATION (Millimeters)\"].astype(\"float\").mean(axis=0)\n",
    "India_train[\"JANUARY PERCIPITATION (Millimeters)\"].replace(np.nan, avg_jan_prec, inplace=True)"
   ]
  },
  {
   "cell_type": "code",
   "execution_count": null,
   "metadata": {},
   "outputs": [],
   "source": [
    "#Calculate the mean value for the \"FEBRUARY PERCIPITATION (Millimeters)\" column \n",
    "avg_feb_prec = India_train[\"FEBRUARY PERCIPITATION (Millimeters)\"].astype(\"float\").mean(axis=0)\n",
    "India_train[\"FEBRUARY PERCIPITATION (Millimeters)\"].replace(np.nan, avg_feb_prec, inplace=True)"
   ]
  },
  {
   "cell_type": "code",
   "execution_count": null,
   "metadata": {},
   "outputs": [],
   "source": [
    "#Calculate the mean value for the \"MARCH PERCIPITATION (Millimeters)\" column \n",
    "avg_mar_prec = India_train[\"MARCH PERCIPITATION (Millimeters)\"].astype(\"float\").mean(axis=0)\n",
    "India_train[\"MARCH PERCIPITATION (Millimeters)\"].replace(np.nan, avg_mar_prec, inplace=True)"
   ]
  },
  {
   "cell_type": "code",
   "execution_count": null,
   "metadata": {},
   "outputs": [],
   "source": [
    "#Calculate the mean value for the \"APRIL PERCIPITATION (Millimeters)\" column \n",
    "avg_apl_prec = India_train[\"APRIL PERCIPITATION (Millimeters)\"].astype(\"float\").mean(axis=0)\n",
    "India_train[\"APRIL PERCIPITATION (Millimeters)\"].replace(np.nan, avg_apl_prec, inplace=True)"
   ]
  },
  {
   "cell_type": "code",
   "execution_count": null,
   "metadata": {},
   "outputs": [],
   "source": [
    "#Calculate the mean value for the \"JUNE PERCIPITATION (Millimeters)\" column \n",
    "avg_jun_prec = India_train[\"JUNE PERCIPITATION (Millimeters)\"].astype(\"float\").mean(axis=0)\n",
    "India_train[\"JUNE PERCIPITATION (Millimeters)\"].replace(np.nan, avg_jun_prec, inplace=True)"
   ]
  },
  {
   "cell_type": "code",
   "execution_count": null,
   "metadata": {},
   "outputs": [],
   "source": [
    "#Calculate the mean value for the \"JULY PERCIPITATION (Millimeters)\" column \n",
    "avg_jul_prec = India_train[\"JULY PERCIPITATION (Millimeters)\"].astype(\"float\").mean(axis=0)\n",
    "India_train[\"JULY PERCIPITATION (Millimeters)\"].replace(np.nan, avg_jul_prec, inplace=True)"
   ]
  },
  {
   "cell_type": "code",
   "execution_count": null,
   "metadata": {},
   "outputs": [],
   "source": [
    "#Calculate the mean value for the \"MAY PERCIPITATION (Millimeters)\" column \n",
    "avg_may_prec = India_train[\"MAY PERCIPITATION (Millimeters)\"].astype(\"float\").mean(axis=0)\n",
    "India_train[\"MAY PERCIPITATION (Millimeters)\"].replace(np.nan, avg_may_prec, inplace=True)"
   ]
  },
  {
   "cell_type": "code",
   "execution_count": null,
   "metadata": {},
   "outputs": [],
   "source": [
    "#Calculate the mean value for the \"JULY PERCIPITATION (Millimeters)\" column \n",
    "avg_jul_prec = India_train[\"JULY PERCIPITATION (Millimeters)\"].astype(\"float\").mean(axis=0)\n",
    "India_train[\"JULY PERCIPITATION (Millimeters)\"].replace(np.nan, avg_jul_prec, inplace=True)"
   ]
  },
  {
   "cell_type": "code",
   "execution_count": null,
   "metadata": {},
   "outputs": [],
   "source": [
    "#Calculate the mean value for the \"AUGUST PERCIPITATION (Millimeters)\" column \n",
    "avg_aug_prec = India_train[\"AUGUST PERCIPITATION (Millimeters)\"].astype(\"float\").mean(axis=0)\n",
    "India_train[\"AUGUST PERCIPITATION (Millimeters)\"].replace(np.nan, avg_aug_prec, inplace=True)"
   ]
  },
  {
   "cell_type": "code",
   "execution_count": null,
   "metadata": {},
   "outputs": [],
   "source": [
    "#Calculate the mean value for the \"SEPTEMBER PERCIPITATION (Millimeters)\" column \n",
    "avg_sep_prec = India_train[\"SEPTEMBER PERCIPITATION (Millimeters)\"].astype(\"float\").mean(axis=0)\n",
    "India_train[\"SEPTEMBER PERCIPITATION (Millimeters)\"].replace(np.nan, avg_sep_prec, inplace=True)"
   ]
  },
  {
   "cell_type": "code",
   "execution_count": null,
   "metadata": {},
   "outputs": [],
   "source": [
    "#Calculate the mean value for the \"OCTOBER PERCIPITATION (Millimeters)\" column \n",
    "avg_oct_prec = India_train[\"OCTOBER PERCIPITATION (Millimeters)\"].astype(\"float\").mean(axis=0)\n",
    "India_train[\"OCTOBER PERCIPITATION (Millimeters)\"].replace(np.nan, avg_oct_prec, inplace=True)"
   ]
  },
  {
   "cell_type": "code",
   "execution_count": null,
   "metadata": {},
   "outputs": [],
   "source": [
    "#Calculate the mean value for the \"NOVEMBER PERCIPITATION (Millimeters)\" column \n",
    "avg_nov_prec = India_train[\"NOVEMBER PERCIPITATION (Millimeters)\"].astype(\"float\").mean(axis=0)\n",
    "India_train[\"NOVEMBER PERCIPITATION (Millimeters)\"].replace(np.nan, avg_nov_prec, inplace=True)"
   ]
  },
  {
   "cell_type": "code",
   "execution_count": null,
   "metadata": {},
   "outputs": [],
   "source": [
    "#Calculate the mean value for the \"DECEMBER PERCIPITATION (Millimeters)\" column \n",
    "avg_dec_prec = India_train[\"DECEMBER PERCIPITATION (Millimeters)\"].astype(\"float\").mean(axis=0)\n",
    "India_train[\"DECEMBER PERCIPITATION (Millimeters)\"].replace(np.nan, avg_dec_prec, inplace=True)"
   ]
  },
  {
   "cell_type": "code",
   "execution_count": null,
   "metadata": {},
   "outputs": [],
   "source": [
    "#Calculate the mean value for the \"JANUARY MINIMUM (Centigrate)\" column \n",
    "avg_jan_min = India_train[\"JANUARY MINIMUM (Centigrate)\"].astype(\"float\").mean(axis=0)\n",
    "India_train[\"JANUARY MINIMUM (Centigrate)\"].replace(np.nan, avg_jan_min, inplace=True)"
   ]
  },
  {
   "cell_type": "code",
   "execution_count": null,
   "metadata": {},
   "outputs": [],
   "source": [
    "#Calculate the mean value for the \"FEBRUARY MINIMUM (Centigrate)\" column \n",
    "avg_feb_min = India_train[\"FEBRUARY MINIMUM (Centigrate)\"].astype(\"float\").mean(axis=0)\n",
    "India_train[\"FEBRUARY MINIMUM (Centigrate)\"].replace(np.nan, avg_feb_min, inplace=True)"
   ]
  },
  {
   "cell_type": "code",
   "execution_count": null,
   "metadata": {},
   "outputs": [],
   "source": [
    "avg_march=India_train['MARCH MINIMUM (Centigrate)'].astype('float').mean(axis=0)\n",
    "India_train['MARCH MINIMUM (Centigrate)'].replace(np.nan,avg_march,inplace=True)\n",
    "avg_march1=India_train['APRIL MINIMUM (Centigrate)'].astype('float').mean(axis=0)\n",
    "India_train['APRIL MINIMUM (Centigrate)'].replace(np.nan,avg_march1,inplace=True)\n",
    "avg_march1=India_train['MAY MINIMUM (Centigrate)'].astype('float').mean(axis=0)\n",
    "India_train['MAY MINIMUM (Centigrate)'].replace(np.nan,avg_march1,inplace=True)\n",
    "avg_march1=India_train['JUNE MINIMUM (Centigrate)'].astype('float').mean(axis=0)\n",
    "India_train['JUNE MINIMUM (Centigrate)'].replace(np.nan,avg_march1,inplace=True)\n",
    "avg_march1=India_train['JULY MINIMUM (Centigrate)'].astype('float').mean(axis=0)\n",
    "India_train['JULY MINIMUM (Centigrate)'].replace(np.nan,avg_march1,inplace=True)\n",
    "avg_march1=India_train['AUGUST MINIMUM (Centigrate)'].astype('float').mean(axis=0)\n",
    "India_train['AUGUST MINIMUM (Centigrate)'].replace(np.nan,avg_march1,inplace=True)\n",
    "avg_march1=India_train['SEPTEMBER MINIMUM (Centigrate)'].astype('float').mean(axis=0)\n",
    "India_train['SEPTEMBER MINIMUM (Centigrate)'].replace(np.nan,avg_march1,inplace=True)\n",
    "avg_march1=India_train['OCTOBER MINIMUM (Centigrate)'].astype('float').mean(axis=0)\n",
    "India_train['OCTOBER MINIMUM (Centigrate)'].replace(np.nan,avg_march1,inplace=True)\n",
    "avg_march1=India_train['NOVEMBER MINIMUM (Centigrate)'].astype('float').mean(axis=0)\n",
    "India_train['NOVEMBER MINIMUM (Centigrate)'].replace(np.nan,avg_march1,inplace=True)\n",
    "avg_march1=India_train['DECEMBER MINIMUM (Centigrate)'].astype('float').mean(axis=0)\n",
    "India_train['DECEMBER MINIMUM (Centigrate)'].replace(np.nan,avg_march1,inplace=True)\n",
    "avg_march1=India_train['JANUARY MAXIMUM (Centigrate)'].astype('float').mean(axis=0)\n",
    "India_train['JANUARY MAXIMUM (Centigrate)'].replace(np.nan,avg_march1,inplace=True)\n",
    "avg_march1=India_train['FEBRUARY MAXIMUM (Centigrate)'].astype('float').mean(axis=0)\n",
    "India_train['FEBRUARY MAXIMUM (Centigrate)'].replace(np.nan,avg_march1,inplace=True)\n",
    "avg_march1=India_train['MARCH MAXIMUM (Centigrate)'].astype('float').mean(axis=0)\n",
    "India_train['MARCH MAXIMUM (Centigrate)'].replace(np.nan,avg_march1,inplace=True)\n",
    "avg_march1=India_train['APRIL MAXIMUM (Centigrate)'].astype('float').mean(axis=0)\n",
    "India_train['APRIL MAXIMUM (Centigrate)'].replace(np.nan,avg_march1,inplace=True)\n",
    "avg_march1=India_train['MAY MAXIMUM (Centigrate)'].astype('float').mean(axis=0)\n",
    "India_train['MAY MAXIMUM (Centigrate)'].replace(np.nan,avg_march1,inplace=True)\n",
    "avg_march1=India_train['JUNE MAXIMUM (Centigrate)'].astype('float').mean(axis=0)\n",
    "India_train['JUNE MAXIMUM (Centigrate)'].replace(np.nan,avg_march1,inplace=True)\n",
    "avg_march1=India_train['JULY MAXIMUM (Centigrate)'].astype('float').mean(axis=0)\n",
    "India_train['JULY MAXIMUM (Centigrate)'].replace(np.nan,avg_march1,inplace=True)\n",
    "avg_march1=India_train['AUGUST MAXIMUM (Centigrate)'].astype('float').mean(axis=0)\n",
    "India_train['AUGUST MAXIMUM (Centigrate)'].replace(np.nan,avg_march1,inplace=True)\n",
    "avg_march1=India_train['SEPTEMBER MAXIMUM (Centigrate)'].astype('float').mean(axis=0)\n",
    "India_train['SEPTEMBER MAXIMUM (Centigrate)'].replace(np.nan,avg_march1,inplace=True)\n",
    "avg_march1=India_train['OCTOBER MAXIMUM (Centigrate)'].astype('float').mean(axis=0)\n",
    "India_train['OCTOBER MAXIMUM (Centigrate)'].replace(np.nan,avg_march1,inplace=True)\n",
    "avg_march1=India_train['NOVEMBER MAXIMUM (Centigrate)'].astype('float').mean(axis=0)\n",
    "India_train['NOVEMBER MAXIMUM (Centigrate)'].replace(np.nan,avg_march1,inplace=True)"
   ]
  },
  {
   "cell_type": "code",
   "execution_count": null,
   "metadata": {},
   "outputs": [],
   "source": [
    "avg_for = India_train[\"FOREST AREA (1000 ha)\"].astype(\"float\").mean(axis=0)\n",
    "India_train[\"FOREST AREA (1000 ha)\"].replace(np.nan, avg_for, inplace=True)\n",
    "\n",
    "avg_b = India_train[\"BARREN AND UNCULTIVABLE LAND AREA (1000 ha)\"].astype(\"float\").mean(axis=0)\n",
    "India_train[\"BARREN AND UNCULTIVABLE LAND AREA (1000 ha)\"].replace(np.nan, avg_b, inplace=True)\n",
    "\n",
    "avg_l = India_train[\"LAND PUT TO NONAGRICULTURAL USE AREA (1000 ha)\"].astype(\"float\").mean(axis=0)\n",
    "India_train[\"LAND PUT TO NONAGRICULTURAL USE AREA (1000 ha)\"].replace(np.nan, avg_l, inplace=True)\n",
    "\n",
    "avg_c = India_train[\"CULTIVABLE WASTE LAND AREA (1000 ha)\"].astype(\"float\").mean(axis=0)\n",
    "India_train[\"CULTIVABLE WASTE LAND AREA (1000 ha)\"].replace(np.nan, avg_c, inplace=True)\n",
    "\n",
    "avg_p = India_train[\"PERMANENT PASTURES AREA (1000 ha)\"].astype(\"float\").mean(axis=0)\n",
    "India_train[\"PERMANENT PASTURES AREA (1000 ha)\"].replace(np.nan, avg_p, inplace=True)\n",
    "\n",
    "avg_o = India_train[\"OTHER FALLOW AREA (1000 ha)\"].astype(\"float\").mean(axis=0)\n",
    "India_train[\"OTHER FALLOW AREA (1000 ha)\"].replace(np.nan, avg_o, inplace=True)\n",
    "\n",
    "avg_cu = India_train[\"CURRENT FALLOW AREA (1000 ha)\"].astype(\"float\").mean(axis=0)\n",
    "India_train[\"CURRENT FALLOW AREA (1000 ha)\"].replace(np.nan, avg_cu, inplace=True)\n",
    "\n",
    "avg_n = India_train[\"NET CROPPED AREA (1000 ha)\"].astype(\"float\").mean(axis=0)\n",
    "India_train[\"NET CROPPED AREA (1000 ha)\"].replace(np.nan, avg_n, inplace=True)\n",
    "\n",
    "avg_g = India_train[\"GROSS CROPPED AREA (1000 ha)\"].astype(\"float\").mean(axis=0)\n",
    "India_train[\"GROSS CROPPED AREA (1000 ha)\"].replace(np.nan, avg_g, inplace=True)\n",
    "\n",
    "avg_n = India_train[\"NITROGEN CONSUMPTION (tons)\"].astype(\"float\").mean(axis=0)\n",
    "India_train[\"NITROGEN CONSUMPTION (tons)\"].replace(np.nan, avg_n, inplace=True)\n",
    "\n",
    "avg_nt = India_train[\"NITROGEN SHARE IN NPK (Percent)\"].astype(\"float\").mean(axis=0)\n",
    "India_train[\"NITROGEN SHARE IN NPK (Percent)\"].replace(np.nan, avg_nt, inplace=True)\n",
    "\n",
    "avg_nca = India_train[\"NITROGEN PER HA OF NCA (Kg per ha)\"].astype(\"float\").mean(axis=0)\n",
    "India_train[\"NITROGEN PER HA OF NCA (Kg per ha)\"].replace(np.nan, avg_nca, inplace=True)\n",
    "\n",
    "avg_gca = India_train[\"NITROGEN PER HA OF GCA (Kg per ha)\"].astype(\"float\").mean(axis=0)\n",
    "India_train[\"NITROGEN PER HA OF GCA (Kg per ha)\"].replace(np.nan, avg_gca, inplace=True)\n",
    "\n",
    "avg_pho = India_train[\"PHOSPHATE CONSUMPTION (tons)\"].astype(\"float\").mean(axis=0)\n",
    "India_train[\"PHOSPHATE CONSUMPTION (tons)\"].replace(np.nan, avg_pho, inplace=True)\n",
    "\n",
    "avg_npk = India_train[\"PHOSPHATE SHARE IN NPK (Percent)\"].astype(\"float\").mean(axis=0)\n",
    "India_train[\"PHOSPHATE SHARE IN NPK (Percent)\"].replace(np.nan, avg_npk, inplace=True)\n",
    "\n",
    "avg_crp = India_train[\"CROPING INTENSITY (Percent)\"].astype(\"float\").mean(axis=0)\n",
    "India_train[\"CROPING INTENSITY (Percent)\"].replace(np.nan, avg_crp, inplace=True)\n",
    "\n",
    "avg_crp = India_train[\"PHOSPHATE PER HA OF NCA (Kg per ha)\"].astype(\"float\").mean(axis=0)\n",
    "India_train[\"PHOSPHATE PER HA OF NCA (Kg per ha)\"].replace(np.nan, avg_crp, inplace=True)\n",
    "\n",
    "avg_crp = India_train[\"PHOSPHATE PER HA OF GCA (Kg per ha)\"].astype(\"float\").mean(axis=0)\n",
    "India_train[\"PHOSPHATE PER HA OF GCA (Kg per ha)\"].replace(np.nan, avg_crp, inplace=True)\n",
    "\n",
    "avg_crp = India_train[\"POTASH CONSUMPTION (tons)\"].astype(\"float\").mean(axis=0)\n",
    "India_train[\"POTASH CONSUMPTION (tons)\"].replace(np.nan, avg_crp, inplace=True)\n",
    "\n",
    "avg_crp = India_train[\"POTASH SHARE IN NPK (Percent)\"].astype(\"float\").mean(axis=0)\n",
    "India_train[\"POTASH SHARE IN NPK (Percent)\"].replace(np.nan, avg_crp, inplace=True)\n",
    "\n",
    "avg_crp = India_train[\"POTASH PER HA OF NCA (Kg per ha)\"].astype(\"float\").mean(axis=0)\n",
    "India_train[\"POTASH PER HA OF NCA (Kg per ha)\"].replace(np.nan, avg_crp, inplace=True)\n",
    "\n",
    "avg_crp = India_train[\"POTASH PER HA OF GCA (Kg per ha)\"].astype(\"float\").mean(axis=0)\n",
    "India_train[\"POTASH PER HA OF GCA (Kg per ha)\"].replace(np.nan, avg_crp, inplace=True)\n",
    "\n",
    "avg_crp = India_train[\"TOTAL CONSUMPTION (tons)\"].astype(\"float\").mean(axis=0)\n",
    "India_train[\"TOTAL CONSUMPTION (tons)\"].replace(np.nan, avg_crp, inplace=True)\n",
    "\n",
    "avg_crp = India_train[\"TOTAL PER HA OF NCA (Kg per ha)\"].astype(\"float\").mean(axis=0)\n",
    "India_train[\"TOTAL PER HA OF NCA (Kg per ha)\"].replace(np.nan, avg_crp, inplace=True)\n",
    "\n",
    "avg_crp = India_train[\"TOTAL PER HA OF GCA (Kg per ha)\"].astype(\"float\").mean(axis=0)\n",
    "India_train[\"TOTAL PER HA OF GCA (Kg per ha)\"].replace(np.nan, avg_crp, inplace=True)\n"
   ]
  },
  {
   "cell_type": "code",
   "execution_count": null,
   "metadata": {},
   "outputs": [],
   "source": [
    "India_train.isnull().sum()"
   ]
  },
  {
   "cell_type": "code",
   "execution_count": null,
   "metadata": {},
   "outputs": [],
   "source": [
    "avg_dec_max=India_train['DECEMBER MAXIMUM (Centigrate)'].astype('float').mean(axis=0)\n",
    "India_train['DECEMBER MAXIMUM (Centigrate)'].replace(np.nan,avg_dec_max,inplace=True)\n",
    "avg_jan_deficit=India_train['JANUARY WATER DEFICIT (Millimeters)'].astype('float').mean(axis=0)\n",
    "India_train['JANUARY WATER DEFICIT (Millimeters)'].replace(np.nan,avg_jan_deficit,inplace=True)\n",
    "avg_jan_deficit=India_train['FEBRUARY WATER DEFICIT (Millimeters)'].astype('float').mean(axis=0)\n",
    "India_train['FEBRUARY WATER DEFICIT (Millimeters)'].replace(np.nan,avg_jan_deficit,inplace=True)\n",
    "avg_jan_deficit=India_train['MARCH WATER DEFICIT (Millimeters)'].astype('float').mean(axis=0)\n",
    "India_train['MARCH WATER DEFICIT (Millimeters)'].replace(np.nan,avg_jan_deficit,inplace=True)\n",
    "avg_jan_deficit=India_train['APRIL WATER DEFICIT (Millimeters)'].astype('float').mean(axis=0)\n",
    "India_train['APRIL WATER DEFICIT (Millimeters)'].replace(np.nan,avg_jan_deficit,inplace=True)\n",
    "avg_jan_deficit=India_train['MAY WATER DEFICIT (Millimeters)'].astype('float').mean(axis=0)\n",
    "India_train['MAY WATER DEFICIT (Millimeters)'].replace(np.nan,avg_jan_deficit,inplace=True)\n",
    "avg_jan_deficit=India_train['JUNE WATER DEFICIT (Millimeters)'].astype('float').mean(axis=0)\n",
    "India_train['JUNE WATER DEFICIT (Millimeters)'].replace(np.nan,avg_jan_deficit,inplace=True)\n",
    "avg_jan_deficit=India_train['JULY WATER DEFICIT (Millimeters)'].astype('float').mean(axis=0)\n",
    "India_train['JULY WATER DEFICIT (Millimeters)'].replace(np.nan,avg_jan_deficit,inplace=True)\n",
    "avg_jan_deficit=India_train['AUGUST WATER DEFICIT (Millimeters)'].astype('float').mean(axis=0)\n",
    "India_train['AUGUST WATER DEFICIT (Millimeters)'].replace(np.nan,avg_jan_deficit,inplace=True)\n",
    "avg_jan_deficit=India_train['OCTOBER WATER DEFICIT (Millimeters)'].astype('float').mean(axis=0)\n",
    "India_train['OCTOBER WATER DEFICIT (Millimeters)'].replace(np.nan,avg_jan_deficit,inplace=True)\n",
    "avg_jan_deficit=India_train['NOVEMBER WATER DEFICIT (Millimeters)'].astype('float').mean(axis=0)\n",
    "India_train['NOVEMBER WATER DEFICIT (Millimeters)'].replace(np.nan,avg_jan_deficit,inplace=True)\n",
    "avg_jan_deficit=India_train['DECEMBER WATER DEFICIT (Millimeters)'].astype('float').mean(axis=0)\n",
    "India_train['DECEMBER WATER DEFICIT (Millimeters)'].replace(np.nan,avg_jan_deficit,inplace=True)\n",
    "avg_jan_deficit=India_train['JANUARY ACTUAL (Millimeters)'].astype('float').mean(axis=0)\n",
    "India_train['JANUARY ACTUAL (Millimeters)'].replace(np.nan,avg_jan_deficit,inplace=True)\n",
    "avg_jan_deficit=India_train['FEBRUARY ACTUAL (Millimeters)'].astype('float').mean(axis=0)\n",
    "India_train['FEBRUARY ACTUAL (Millimeters)'].replace(np.nan,avg_jan_deficit,inplace=True)\n",
    "avg_jan_deficit=India_train['MARCH ACTUAL (Millimeters)'].astype('float').mean(axis=0)\n",
    "India_train['MARCH ACTUAL (Millimeters)'].replace(np.nan,avg_jan_deficit,inplace=True)\n",
    "avg_jan_deficit=India_train['APRIL ACTUAL (Millimeters)'].astype('float').mean(axis=0)\n",
    "India_train['APRIL ACTUAL (Millimeters)'].replace(np.nan,avg_jan_deficit,inplace=True)\n",
    "avg_jan_deficit=India_train['MAY ACTUAL (Millimeters)'].astype('float').mean(axis=0)\n",
    "India_train['MAY ACTUAL (Millimeters)'].replace(np.nan,avg_jan_deficit,inplace=True)\n",
    "avg_jan_deficit=India_train['JUNE ACTUAL (Millimeters)'].astype('float').mean(axis=0)\n",
    "India_train['JUNE ACTUAL (Millimeters)'].replace(np.nan,avg_jan_deficit,inplace=True)\n",
    "avg_jan_deficit=India_train['JULY ACTUAL (Millimeters)'].astype('float').mean(axis=0)\n",
    "India_train['JULY ACTUAL (Millimeters)'].replace(np.nan,avg_jan_deficit,inplace=True)\n",
    "avg_jan_deficit=India_train['AUGUST ACTUAL (Millimeters)'].astype('float').mean(axis=0)\n",
    "India_train['AUGUST ACTUAL (Millimeters)'].replace(np.nan,avg_jan_deficit,inplace=True)\n",
    "avg_jan_deficit=India_train['SEPTEMBER ACTUAL (Millimeters)'].astype('float').mean(axis=0)\n",
    "India_train['SEPTEMBER ACTUAL (Millimeters)'].replace(np.nan,avg_jan_deficit,inplace=True)\n",
    "avg_jan_deficit=India_train['OCTOBER ACTUAL (Millimeters)'].astype('float').mean(axis=0)\n",
    "India_train['OCTOBER ACTUAL (Millimeters)'].replace(np.nan,avg_jan_deficit,inplace=True)\n",
    "avg_jan_deficit=India_train['NOVEMBER ACTUAL (Millimeters)'].astype('float').mean(axis=0)\n",
    "India_train['NOVEMBER ACTUAL (Millimeters)'].replace(np.nan,avg_jan_deficit,inplace=True)\n"
   ]
  },
  {
   "cell_type": "code",
   "execution_count": null,
   "metadata": {},
   "outputs": [],
   "source": [
    "avg_cotton_area = India_train[\"JULY ACTUAL (Millimeters)\"].astype(\"float\").mean(axis=0)\n",
    "India_train[\"JULY ACTUAL (Millimeters)\"].replace(np.nan, avg_cotton_area, inplace=True)\n",
    "avg_cotton_prod = India_train[\"AUGUST ACTUAL (Millimeters)\"].astype(\"float\").mean(axis=0)\n",
    "India_train[\"AUGUST ACTUAL (Millimeters)\"].replace(np.nan, avg_cotton_prod, inplace=True)\n",
    "avg_cotton_prod = India_train[\"SEPTEMBER ACTUAL (Millimeters)\"].astype(\"float\").mean(axis=0)\n",
    "India_train[\"SEPTEMBER ACTUAL (Millimeters)\"].replace(np.nan, avg_cotton_prod, inplace=True)\n",
    "avg_cotton_area = India_train[\"OCTOBER ACTUAL (Millimeters)\"].astype(\"float\").mean(axis=0)\n",
    "India_train[\"OCTOBER ACTUAL (Millimeters)\"].replace(np.nan, avg_cotton_area, inplace=True)\n",
    "avg_cotton_area = India_train[\"NOVEMBER ACTUAL (Millimeters)\"].astype(\"float\").mean(axis=0)\n",
    "India_train[\"NOVEMBER ACTUAL (Millimeters)\"].replace(np.nan, avg_cotton_area, inplace=True)\n",
    "avg_cotton_area = India_train[\"DECEMBER ACTUAL (Millimeters)\"].astype(\"float\").mean(axis=0)\n",
    "India_train[\"DECEMBER ACTUAL (Millimeters)\"].replace(np.nan, avg_cotton_area, inplace=True)\n",
    "avg_cotton_area = India_train[\"JANUARY POTENTIAL (Millimeters)\"].astype(\"float\").mean(axis=0)\n",
    "India_train[\"JANUARY POTENTIAL (Millimeters)\"].replace(np.nan, avg_cotton_area, inplace=True)\n",
    "avg_cotton_area = India_train[\"FEBRUARY POTENTIAL (Millimeters)\"].astype(\"float\").mean(axis=0)\n",
    "India_train[\"FEBRUARY POTENTIAL (Millimeters)\"].replace(np.nan, avg_cotton_area, inplace=True)\n",
    "avg_cotton_area = India_train[\"MARCH POTENTIAL (Millimeters)\"].astype(\"float\").mean(axis=0)\n",
    "India_train[\"MARCH POTENTIAL (Millimeters)\"].replace(np.nan, avg_cotton_area, inplace=True)\n",
    "avg_cotton_area = India_train[\"APRIL POTENTIAL (Millimeters)\"].astype(\"float\").mean(axis=0)\n",
    "India_train[\"APRIL POTENTIAL (Millimeters)\"].replace(np.nan, avg_cotton_area, inplace=True)\n",
    "avg_cotton_area = India_train[\"MAY POTENTIAL (Millimeters)\"].astype(\"float\").mean(axis=0)\n",
    "India_train[\"MAY POTENTIAL (Millimeters)\"].replace(np.nan, avg_cotton_area, inplace=True)\n",
    "avg_cotton_area = India_train[\"JUNE POTENTIAL (Millimeters)\"].astype(\"float\").mean(axis=0)\n",
    "India_train[\"JUNE POTENTIAL (Millimeters)\"].replace(np.nan, avg_cotton_area, inplace=True)\n",
    "avg_cotton_area = India_train[\"JULY POTENTIAL (Millimeters)\"].astype(\"float\").mean(axis=0)\n",
    "India_train[\"JULY POTENTIAL (Millimeters)\"].replace(np.nan, avg_cotton_area, inplace=True)\n",
    "avg_cotton_area = India_train[\"AUGUST POTENTIAL (Millimeters)\"].astype(\"float\").mean(axis=0)\n",
    "India_train[\"AUGUST POTENTIAL (Millimeters)\"].replace(np.nan, avg_cotton_area, inplace=True)\n",
    "avg_cotton_area = India_train[\"SEPTEMBER POTENTIAL (Millimeters)\"].astype(\"float\").mean(axis=0)\n",
    "India_train[\"SEPTEMBER POTENTIAL (Millimeters)\"].replace(np.nan, avg_cotton_area, inplace=True)\n",
    "avg_cotton_area = India_train[\"OCTOBER POTENTIAL (Millimeters)\"].astype(\"float\").mean(axis=0)\n",
    "India_train[\"OCTOBER POTENTIAL (Millimeters)\"].replace(np.nan, avg_cotton_area, inplace=True)\n",
    "avg_cotton_area = India_train[\"NOVEMBER POTENTIAL (Millimeters)\"].astype(\"float\").mean(axis=0)\n",
    "India_train[\"NOVEMBER POTENTIAL (Millimeters)\"].replace(np.nan, avg_cotton_area, inplace=True)\n",
    "avg_cotton_area = India_train[\"DECEMBER POTENTIAL (Millimeters)\"].astype(\"float\").mean(axis=0)\n",
    "India_train[\"DECEMBER POTENTIAL (Millimeters)\"].replace(np.nan, avg_cotton_area, inplace=True)\n",
    "avg_cotton_area = India_train[\"TOTAL AREA (1000 ha)\"].astype(\"float\").mean(axis=0)\n",
    "India_train[\"TOTAL AREA (1000 ha)\"].replace(np.nan, avg_cotton_area, inplace=True)\n",
    "avg_cotton_area = India_train[\"FOREST AREA (1000 ha)\"].astype(\"float\").mean(axis=0)\n",
    "India_train[\"FOREST AREA (1000 ha)\"].replace(np.nan, avg_cotton_area, inplace=True)"
   ]
  },
  {
   "cell_type": "code",
   "execution_count": null,
   "metadata": {},
   "outputs": [],
   "source": [
    "India_train.isnull().sum()"
   ]
  },
  {
   "cell_type": "code",
   "execution_count": null,
   "metadata": {},
   "outputs": [],
   "source": [
    "#removing negative values.\n",
    "India_train=India_train.drop(India_train[India_train['COTTON AREA (1000 ha)']<0.0].index)\n",
    "India_train=India_train.drop(India_train[India_train['COTTON PRODUCTION (1000 tons)']<0.0].index)\n",
    "India_train=India_train.drop(India_train[India_train['COTTON YIELD (Kg per ha)']<0.0].index)"
   ]
  },
  {
   "cell_type": "code",
   "execution_count": 95,
   "metadata": {},
   "outputs": [
    {
     "data": {
      "text/plain": [
       "(4492, 120)"
      ]
     },
     "execution_count": 95,
     "metadata": {},
     "output_type": "execute_result"
    }
   ],
   "source": [
    "India_train.shape"
   ]
  },
  {
   "cell_type": "markdown",
   "metadata": {},
   "source": [
    "# India_soil_rainfall_30years"
   ]
  },
  {
   "cell_type": "code",
   "execution_count": null,
   "metadata": {
    "scrolled": true
   },
   "outputs": [],
   "source": [
    "India_soil_rainfall_30years.isnull().sum()"
   ]
  },
  {
   "cell_type": "code",
   "execution_count": null,
   "metadata": {},
   "outputs": [],
   "source": [
    "India_soil_rainfall_30years['SOIL TYPE PERCENT (Percent)'].value_counts().idxmax()"
   ]
  },
  {
   "cell_type": "code",
   "execution_count": null,
   "metadata": {},
   "outputs": [],
   "source": [
    "India_soil_rainfall_30years['SOIL TYPE PERCENT (Percent)'].replace(np.nan, \"INCEPTISOLS\", inplace=True)"
   ]
  },
  {
   "cell_type": "code",
   "execution_count": null,
   "metadata": {},
   "outputs": [],
   "source": [
    "India_soil_rainfall_30years.isnull().sum()"
   ]
  },
  {
   "cell_type": "markdown",
   "metadata": {},
   "source": [
    "# USA_train"
   ]
  },
  {
   "cell_type": "code",
   "execution_count": null,
   "metadata": {},
   "outputs": [],
   "source": [
    "USA_train.isnull().sum()"
   ]
  },
  {
   "cell_type": "code",
   "execution_count": null,
   "metadata": {},
   "outputs": [],
   "source": [
    "USA_train['State'].value_counts()"
   ]
  },
  {
   "cell_type": "code",
   "execution_count": null,
   "metadata": {},
   "outputs": [],
   "source": [
    "USA_train['State'].value_counts().idxmax()"
   ]
  },
  {
   "cell_type": "code",
   "execution_count": null,
   "metadata": {},
   "outputs": [],
   "source": [
    "USA_train['State'].replace(np.nan, \"TN\", inplace=True)"
   ]
  },
  {
   "cell_type": "code",
   "execution_count": null,
   "metadata": {},
   "outputs": [],
   "source": [
    "USA_train=USA_train.drop(USA_train[USA_train['Yield (Pounds/ Harvested Area)']<0].index)\n",
    "USA_train=USA_train.drop(USA_train[USA_train['Average Temperature Value']<0].index)\n",
    "USA_train=USA_train.drop(USA_train[USA_train['Average Temperature Anomaly']<0].index)\n",
    "USA_train=USA_train.drop(USA_train[USA_train['Maximum Temperature Value']<0].index)\n",
    "USA_train=USA_train.drop(USA_train[USA_train['Maximum Temperature Anomaly']<0].index)\n",
    "USA_train=USA_train.drop(USA_train[USA_train['Minimum Temperature Value']<0].index)\n",
    "USA_train=USA_train.drop(USA_train[USA_train['Minimum Temperature Anomaly']<0].index)\n",
    "USA_train=USA_train.drop(USA_train[USA_train['Precipitation Value']<0].index)\n",
    "USA_train=USA_train.drop(USA_train[USA_train['Precipitation Anomaly']<0].index)\n",
    "USA_train=USA_train.drop(USA_train[USA_train['Cooling Degree Days Value']<0].index)\n",
    "USA_train=USA_train.drop(USA_train[USA_train['Cooling Degree Days Anomaly']<0].index)\n",
    "USA_train=USA_train.drop(USA_train[USA_train['Heating Degree Days Value']<0].index)\n",
    "USA_train=USA_train.drop(USA_train[USA_train['Heating Degree Days Anomaly']<0].index)\n",
    "USA_train=USA_train.drop(USA_train[USA_train['Palmer Drought Severity Index (PDSI) Value']<0].index)\n",
    "USA_train=USA_train.drop(USA_train[USA_train['Palmer Drought Severity Index (PDSI) Anomaly']<0].index)\n",
    "USA_train=USA_train.drop(USA_train[USA_train['Palmer Hydrological Drought Index (PHDI) Value']<0].index)\n",
    "USA_train=USA_train.drop(USA_train[USA_train['Palmer Hydrological Drought Index (PHDI) Anomaly']<0].index)\n",
    "USA_train=USA_train.drop(USA_train[USA_train['Palmer Modified Drought Index (PMDI) Value']<0].index)\n",
    "USA_train=USA_train.drop(USA_train[USA_train['Palmer Modified Drought Index (PMDI) Anomaly']<0].index)\n",
    "USA_train=USA_train.drop(USA_train[USA_train['Palmer Z-Index Value']<0].index)\n",
    "USA_train=USA_train.drop(USA_train[USA_train['Palmer Z-Index Anomaly']<0].index)"
   ]
  },
  {
   "cell_type": "code",
   "execution_count": null,
   "metadata": {},
   "outputs": [],
   "source": [
    "USA_train.shape"
   ]
  },
  {
   "cell_type": "code",
   "execution_count": null,
   "metadata": {},
   "outputs": [],
   "source": [
    "#Calculate the mean value for the \"Average Temperature Value\" column \n",
    "avg_tempa = USA_train[\"Average Temperature Value\"].astype(\"float\").mean(axis=0)\n",
    "USA_train[\"Average Temperature Value\"].replace(np.nan, avg_tempa, inplace=True)\n",
    "\n",
    "avg_tempal = USA_train[\"Average Temperature Anomaly\"].astype(\"float\").mean(axis=0)\n",
    "USA_train[\"Average Temperature Anomaly\"].replace(np.nan, avg_tempal, inplace=True)\n",
    "\n",
    "avg_temp_max = USA_train[\"Maximum Temperature Value\"].astype(\"float\").mean(axis=0)\n",
    "USA_train[\"Maximum Temperature Value\"].replace(np.nan, avg_temp_max, inplace=True)\n",
    "\n",
    "avg_temp_al = USA_train[\"Maximum Temperature Anomaly\"].astype(\"float\").mean(axis=0)\n",
    "USA_train[\"Maximum Temperature Anomaly\"].replace(np.nan, avg_temp_al, inplace=True)\n",
    "\n",
    "avg_temp_min = USA_train[\"Minimum Temperature Value\"].astype(\"float\").mean(axis=0)\n",
    "USA_train[\"Minimum Temperature Value\"].replace(np.nan, avg_temp_min, inplace=True)\n",
    "\n",
    "avg_temp_minal = USA_train[\"Minimum Temperature Anomaly\"].astype(\"float\").mean(axis=0)\n",
    "USA_train[\"Minimum Temperature Anomaly\"].replace(np.nan, avg_temp_minal, inplace=True)\n",
    "\n",
    "avg_pre = USA_train[\"Precipitation Value\"].astype(\"float\").mean(axis=0)\n",
    "USA_train[\"Precipitation Value\"].replace(np.nan, avg_pre, inplace=True)\n",
    "\n",
    "avg_prea = USA_train[\"Precipitation Anomaly\"].astype(\"float\").mean(axis=0)\n",
    "USA_train[\"Precipitation Anomaly\"].replace(np.nan, avg_prea, inplace=True)\n",
    "\n",
    "avg_cool = USA_train[\"Cooling Degree Days Value\"].astype(\"float\").mean(axis=0)\n",
    "USA_train[\"Cooling Degree Days Value\"].replace(np.nan, avg_cool, inplace=True)\n",
    "\n",
    "avg_coola = USA_train[\"Cooling Degree Days Anomaly\"].astype(\"float\").mean(axis=0)\n",
    "USA_train[\"Cooling Degree Days Anomaly\"].replace(np.nan, avg_coola, inplace=True)\n",
    "  \n",
    "avg_heat = USA_train[\"Heating Degree Days Value\"].astype(\"float\").mean(axis=0)\n",
    "USA_train[\"Heating Degree Days Value\"].replace(np.nan, avg_heat, inplace=True)\n",
    "\n",
    "avg_heata = USA_train[\"Heating Degree Days Anomaly\"].astype(\"float\").mean(axis=0)\n",
    "USA_train[\"Heating Degree Days Anomaly\"].replace(np.nan, avg_heata, inplace=True)\n",
    "\n",
    "avg_pdsi = USA_train[\"Palmer Drought Severity Index (PDSI) Value\"].astype(\"float\").mean(axis=0)\n",
    "USA_train[\"Palmer Drought Severity Index (PDSI) Value\"].replace(np.nan, avg_pdsi, inplace=True)\n",
    "\n",
    "avg_pdsia = USA_train[\"Palmer Drought Severity Index (PDSI) Anomaly\"].astype(\"float\").mean(axis=0)\n",
    "USA_train[\"Palmer Drought Severity Index (PDSI) Anomaly\"].replace(np.nan, avg_pdsia, inplace=True)\n",
    "\n",
    "avg_phdi = USA_train[\"Palmer Hydrological Drought Index (PHDI) Value\"].astype(\"float\").mean(axis=0)\n",
    "USA_train[\"Palmer Hydrological Drought Index (PHDI) Value\"].replace(np.nan, avg_phdi, inplace=True)\n",
    "\n",
    "avg_pdhia = USA_train[\"Palmer Hydrological Drought Index (PHDI) Anomaly\"].astype(\"float\").mean(axis=0)\n",
    "USA_train[\"Palmer Hydrological Drought Index (PHDI) Anomaly\"].replace(np.nan, avg_pdhia, inplace=True)\n",
    "\n",
    "avg_pmdi = USA_train[\"Palmer Modified Drought Index (PMDI) Value\"].astype(\"float\").mean(axis=0)\n",
    "USA_train[\"Palmer Modified Drought Index (PMDI) Value\"].replace(np.nan, avg_pmdi, inplace=True)\n",
    "\n",
    "avg_pz = USA_train[\"Palmer Z-Index Value\"].astype(\"float\").mean(axis=0)\n",
    "USA_train[\"Palmer Z-Index Value\"].replace(np.nan, avg_pz, inplace=True)\n",
    "\n",
    "avg_pmdia = USA_train[\"Palmer Modified Drought Index (PMDI) Anomaly\"].astype(\"float\").mean(axis=0)\n",
    "USA_train[\"Palmer Modified Drought Index (PMDI) Anomaly\"].replace(np.nan, avg_pmdia, inplace=True)\n",
    "\n",
    "avg_pza = USA_train[\"Palmer Z-Index Anomaly\"].astype(\"float\").mean(axis=0)\n",
    "USA_train[\"Palmer Z-Index Anomaly\"].replace(np.nan, avg_pza, inplace=True)\n"
   ]
  },
  {
   "cell_type": "code",
   "execution_count": null,
   "metadata": {},
   "outputs": [],
   "source": [
    "USA_train['Planted (1000 Acres)'].value_counts().idxmax()"
   ]
  },
  {
   "cell_type": "code",
   "execution_count": null,
   "metadata": {},
   "outputs": [],
   "source": [
    "USA_train.isnull().sum()"
   ]
  },
  {
   "cell_type": "code",
   "execution_count": null,
   "metadata": {},
   "outputs": [],
   "source": [
    "USA_train= USA_train.astype(float, errors='ignore')\n",
    "USA_train.dtypes"
   ]
  },
  {
   "cell_type": "markdown",
   "metadata": {},
   "source": [
    "# Data Normalization"
   ]
  },
  {
   "cell_type": "code",
   "execution_count": null,
   "metadata": {},
   "outputs": [],
   "source": [
    "plt.pyplot.hist(India_train['COTTON AREA (1000 ha)'],bins=np.arange(100,5000,500),color='salmon',alpha=0.2)\n",
    "plt.pyplot.hist(India_train['COTTON PRODUCTION (1000 tons)'],bins=np.arange(100,5000,500),color='yellow',alpha=0.4)\n",
    "plt.pyplot.hist(India_train['COTTON YIELD (Kg per ha)'],bins=np.arange(100,5000,500),color='green',alpha=0.5)\n",
    "\n",
    "# set x/y labels and plot title\n",
    "plt.pyplot.xlabel('COTTON production,area,yield')\n",
    "plt.pyplot.ylabel(\"count\")\n",
    "#plt.pyplot.title('COTTON AREA (1000 ha)')"
   ]
  },
  {
   "cell_type": "markdown",
   "metadata": {},
   "source": [
    "# Binning"
   ]
  },
  {
   "cell_type": "markdown",
   "metadata": {},
   "source": [
    "# India_train"
   ]
  },
  {
   "cell_type": "code",
   "execution_count": null,
   "metadata": {},
   "outputs": [],
   "source": [
    "group_names = ['Low', 'Medium', 'High']"
   ]
  },
  {
   "cell_type": "code",
   "execution_count": null,
   "metadata": {},
   "outputs": [],
   "source": [
    "bins = np.linspace(min(India_train[\"COTTON AREA (1000 ha)\"]), max(India_train[\"COTTON AREA (1000 ha)\"]), 4)\n",
    "India_train['COTTON AREA (1000 ha)-binned'] = pd.cut(India_train['COTTON AREA (1000 ha)'], bins, labels=group_names, include_lowest=True)\n",
    "India_train[\"COTTON AREA (1000 ha)-binned\"].value_counts()"
   ]
  },
  {
   "cell_type": "code",
   "execution_count": null,
   "metadata": {},
   "outputs": [],
   "source": [
    "plt.pyplot.bar(group_names, India_train[\"COTTON AREA (1000 ha)-binned\"].value_counts(),color='red')\n",
    "plt.pyplot.xlabel(\"Cotton Area\")\n",
    "plt.pyplot.ylabel(\"count\")\n",
    "plt.pyplot.title(\"Cotton Area bins\")"
   ]
  },
  {
   "cell_type": "code",
   "execution_count": null,
   "metadata": {},
   "outputs": [],
   "source": [
    "bins = np.linspace(min(India_train[\"COTTON PRODUCTION (1000 tons)\"]), max(India_train[\"COTTON PRODUCTION (1000 tons)\"]), 4)\n",
    "India_train['COTTON PRODUCTION (1000 tons)-binned'] = pd.cut(India_train['COTTON PRODUCTION (1000 tons)'], bins, labels=group_names, include_lowest=True)\n",
    "India_train[\"COTTON PRODUCTION (1000 tons)-binned\"].value_counts()"
   ]
  },
  {
   "cell_type": "code",
   "execution_count": null,
   "metadata": {},
   "outputs": [],
   "source": [
    "plt.pyplot.bar(group_names, India_train[\"COTTON PRODUCTION (1000 tons)-binned\"].value_counts(),color='purple')\n",
    "plt.pyplot.xlabel(\"Cotton Production\")\n",
    "plt.pyplot.ylabel(\"count\")\n",
    "plt.pyplot.title(\"Cotton production bins\")"
   ]
  },
  {
   "cell_type": "code",
   "execution_count": null,
   "metadata": {},
   "outputs": [],
   "source": [
    "bins = np.linspace(min(India_train[\"COTTON YIELD (Kg per ha)\"]), max(India_train[\"COTTON YIELD (Kg per ha)\"]), 4)\n",
    "India_train['COTTON YIELD (Kg per ha)-binned'] = pd.cut(India_train['COTTON YIELD (Kg per ha)'], bins, labels=group_names, include_lowest=True)\n",
    "India_train[\"COTTON YIELD (Kg per ha)-binned\"].value_counts()"
   ]
  },
  {
   "cell_type": "code",
   "execution_count": null,
   "metadata": {},
   "outputs": [],
   "source": [
    "plt.pyplot.bar(group_names, India_train[\"COTTON YIELD (Kg per ha)-binned\"].value_counts(),color='lightblue')\n",
    "plt.pyplot.xlabel(\"Cotton Yield\")\n",
    "plt.pyplot.ylabel(\"count\")\n",
    "plt.pyplot.title(\"Cotton yield bins\")"
   ]
  },
  {
   "cell_type": "code",
   "execution_count": null,
   "metadata": {},
   "outputs": [],
   "source": [
    "bins1 = np.linspace(min(India_train[\"JANUARY PERCIPITATION (Millimeters)\"]), max(India_train[\"JANUARY PERCIPITATION (Millimeters)\"]), 4)\n",
    "India_train['JANUARY PERCIPITATION (Millimeters)-binned'] = pd.cut(India_train['JANUARY PERCIPITATION (Millimeters)'], bins1, labels=group_names, include_lowest=True)\n",
    "India_train[\"JANUARY PERCIPITATION (Millimeters)-binned\"].value_counts()"
   ]
  },
  {
   "cell_type": "code",
   "execution_count": null,
   "metadata": {},
   "outputs": [],
   "source": [
    "bins1 = np.linspace(min(India_train[\"FEBRUARY PERCIPITATION (Millimeters)\"]), max(India_train[\"FEBRUARY PERCIPITATION (Millimeters)\"]), 4)\n",
    "India_train['FEBRUARY PERCIPITATION (Millimeters)-binned'] = pd.cut(India_train['FEBRUARY PERCIPITATION (Millimeters)'], bins1, labels=group_names, include_lowest=True)\n",
    "India_train[\"FEBRUARY PERCIPITATION (Millimeters)-binned\"].value_counts()"
   ]
  },
  {
   "cell_type": "code",
   "execution_count": null,
   "metadata": {},
   "outputs": [],
   "source": [
    "bins1 = np.linspace(min(India_train[\"MARCH PERCIPITATION (Millimeters)\"]), max(India_train[\"MARCH PERCIPITATION (Millimeters)\"]), 4)\n",
    "India_train['MARCH PERCIPITATION (Millimeters)-binned'] = pd.cut(India_train['MARCH PERCIPITATION (Millimeters)'], bins1, labels=group_names, include_lowest=True)\n",
    "India_train[\"MARCH PERCIPITATION (Millimeters)-binned\"].value_counts()"
   ]
  },
  {
   "cell_type": "code",
   "execution_count": null,
   "metadata": {},
   "outputs": [],
   "source": [
    "bins1 = np.linspace(min(India_train[\"APRIL PERCIPITATION (Millimeters)\"]), max(India_train[\"APRIL PERCIPITATION (Millimeters)\"]), 4)\n",
    "India_train['APRIL PERCIPITATION (Millimeters)-binned'] = pd.cut(India_train['APRIL PERCIPITATION (Millimeters)'], bins1, labels=group_names, include_lowest=True)\n",
    "India_train[\"APRIL PERCIPITATION (Millimeters)-binned\"].value_counts()"
   ]
  },
  {
   "cell_type": "code",
   "execution_count": null,
   "metadata": {},
   "outputs": [],
   "source": [
    "bins1 = np.linspace(min(India_train[\"MAY PERCIPITATION (Millimeters)\"]), max(India_train[\"MAY PERCIPITATION (Millimeters)\"]), 4)\n",
    "India_train['MAY PERCIPITATION (Millimeters)-binned'] = pd.cut(India_train['MAY PERCIPITATION (Millimeters)'], bins1, labels=group_names, include_lowest=True)\n",
    "India_train[\"MAY PERCIPITATION (Millimeters)-binned\"].value_counts()"
   ]
  },
  {
   "cell_type": "code",
   "execution_count": null,
   "metadata": {},
   "outputs": [],
   "source": [
    "bins1 = np.linspace(min(India_train[\"JUNE PERCIPITATION (Millimeters)\"]), max(India_train[\"JUNE PERCIPITATION (Millimeters)\"]), 4)\n",
    "India_train['JUNE PERCIPITATION (Millimeters)-binned'] = pd.cut(India_train['JUNE PERCIPITATION (Millimeters)'], bins1, labels=group_names, include_lowest=True)\n",
    "India_train[\"JUNE PERCIPITATION (Millimeters)-binned\"].value_counts()"
   ]
  },
  {
   "cell_type": "code",
   "execution_count": null,
   "metadata": {},
   "outputs": [],
   "source": [
    "bins1 = np.linspace(min(India_train[\"JULY PERCIPITATION (Millimeters)\"]), max(India_train[\"JULY PERCIPITATION (Millimeters)\"]), 4)\n",
    "India_train['JULY PERCIPITATION (Millimeters)-binned'] = pd.cut(India_train['JULY PERCIPITATION (Millimeters)'], bins1, labels=group_names, include_lowest=True)\n",
    "India_train[\"JULY PERCIPITATION (Millimeters)-binned\"].value_counts()"
   ]
  },
  {
   "cell_type": "code",
   "execution_count": null,
   "metadata": {},
   "outputs": [],
   "source": [
    "bins1 = np.linspace(min(India_train[\"AUGUST PERCIPITATION (Millimeters)\"]), max(India_train[\"AUGUST PERCIPITATION (Millimeters)\"]), 4)\n",
    "India_train['AUGUST PERCIPITATION (Millimeters)-binned'] = pd.cut(India_train['AUGUST PERCIPITATION (Millimeters)'], bins1, labels=group_names, include_lowest=True)\n",
    "India_train[\"AUGUST PERCIPITATION (Millimeters)-binned\"].value_counts()"
   ]
  },
  {
   "cell_type": "code",
   "execution_count": null,
   "metadata": {},
   "outputs": [],
   "source": [
    "bins1 = np.linspace(min(India_train[\"SEPTEMBER PERCIPITATION (Millimeters)\"]), max(India_train[\"SEPTEMBER PERCIPITATION (Millimeters)\"]), 4)\n",
    "India_train['SEPTEMBER PERCIPITATION (Millimeters)-binned'] = pd.cut(India_train['SEPTEMBER PERCIPITATION (Millimeters)'], bins1, labels=group_names, include_lowest=True)\n",
    "India_train[\"SEPTEMBER PERCIPITATION (Millimeters)-binned\"].value_counts()"
   ]
  },
  {
   "cell_type": "code",
   "execution_count": null,
   "metadata": {},
   "outputs": [],
   "source": [
    "bins1 = np.linspace(min(India_train[\"OCTOBER PERCIPITATION (Millimeters)\"]), max(India_train[\"OCTOBER PERCIPITATION (Millimeters)\"]), 4)\n",
    "India_train['OCTOBER PERCIPITATION (Millimeters)-binned'] = pd.cut(India_train['OCTOBER PERCIPITATION (Millimeters)'], bins1, labels=group_names, include_lowest=True)\n",
    "India_train[\"OCTOBER PERCIPITATION (Millimeters)-binned\"].value_counts()"
   ]
  },
  {
   "cell_type": "code",
   "execution_count": null,
   "metadata": {},
   "outputs": [],
   "source": [
    "bins1 = np.linspace(min(India_train[\"NOVEMBER PERCIPITATION (Millimeters)\"]), max(India_train[\"NOVEMBER PERCIPITATION (Millimeters)\"]), 4)\n",
    "India_train['NOVEMBER PERCIPITATION (Millimeters)-binned'] = pd.cut(India_train['NOVEMBER PERCIPITATION (Millimeters)'], bins1, labels=group_names, include_lowest=True)\n",
    "India_train[\"NOVEMBER PERCIPITATION (Millimeters)-binned\"].value_counts()"
   ]
  },
  {
   "cell_type": "code",
   "execution_count": null,
   "metadata": {},
   "outputs": [],
   "source": [
    "bins1 = np.linspace(min(India_train[\"DECEMBER PERCIPITATION (Millimeters)\"]), max(India_train[\"DECEMBER PERCIPITATION (Millimeters)\"]), 4)\n",
    "India_train['DECEMBER PERCIPITATION (Millimeters)-binned'] = pd.cut(India_train['DECEMBER PERCIPITATION (Millimeters)'], bins1, labels=group_names, include_lowest=True)\n",
    "India_train[\"DECEMBER PERCIPITATION (Millimeters)-binned\"].value_counts()"
   ]
  },
  {
   "cell_type": "code",
   "execution_count": null,
   "metadata": {},
   "outputs": [],
   "source": [
    "bins1 = np.linspace(min(India_train[\"JANUARY MINIMUM (Centigrate)\"]), max(India_train[\"JANUARY MINIMUM (Centigrate)\"]), 4)\n",
    "India_train['JANUARY MINIMUM (Centigrate)-binned'] = pd.cut(India_train['JANUARY MINIMUM (Centigrate)'], bins1, labels=group_names, include_lowest=True)\n",
    "India_train[\"JANUARY MINIMUM (Centigrate)-binned\"].value_counts()"
   ]
  },
  {
   "cell_type": "code",
   "execution_count": null,
   "metadata": {},
   "outputs": [],
   "source": [
    "bins1 = np.linspace(min(India_train[\"FEBRUARY MINIMUM (Centigrate)\"]), max(India_train[\"FEBRUARY MINIMUM (Centigrate)\"]), 4)\n",
    "India_train['FEBRUARY MINIMUM (Centigrate)-binned'] = pd.cut(India_train['FEBRUARY MINIMUM (Centigrate)'], bins1, labels=group_names, include_lowest=True)\n",
    "India_train[\"FEBRUARY MINIMUM (Centigrate)-binned\"].value_counts()"
   ]
  },
  {
   "cell_type": "code",
   "execution_count": null,
   "metadata": {},
   "outputs": [],
   "source": []
  },
  {
   "cell_type": "code",
   "execution_count": null,
   "metadata": {},
   "outputs": [],
   "source": []
  },
  {
   "cell_type": "markdown",
   "metadata": {},
   "source": [
    "# USA_Commodity_prices"
   ]
  },
  {
   "cell_type": "code",
   "execution_count": null,
   "metadata": {},
   "outputs": [],
   "source": [
    "bins = np.linspace(min(USA_Commodity_prices[\"Cotton_Price[Dollar/ton]\"]), max(USA_Commodity_prices[\"Cotton_Price[Dollar/ton]\"]), 4)\n",
    "USA_Commodity_prices['Cotton_Price[Dollar/ton]-binned'] = pd.cut(USA_Commodity_prices['Cotton_Price[Dollar/ton]'], bins, labels=group_names, include_lowest=True)\n",
    "USA_Commodity_prices[\"Cotton_Price[Dollar/ton]-binned\"].value_counts()"
   ]
  },
  {
   "cell_type": "code",
   "execution_count": null,
   "metadata": {},
   "outputs": [],
   "source": [
    "plt.pyplot.bar(group_names, USA_Commodity_prices['Cotton_Price[Dollar/ton]-binned'].value_counts(),color='crimson')\n",
    "plt.pyplot.xlabel(\"Cotton Price\")\n",
    "plt.pyplot.ylabel(\"count\")\n",
    "plt.pyplot.title(\"Cotton Price bins\")"
   ]
  },
  {
   "cell_type": "code",
   "execution_count": null,
   "metadata": {},
   "outputs": [],
   "source": [
    "sns.distplot(USA_Commodity_prices['Cotton_Price[Dollar/ton]'],color='black')"
   ]
  },
  {
   "cell_type": "markdown",
   "metadata": {},
   "source": [
    "# India_soil_rainfall_30years"
   ]
  },
  {
   "cell_type": "code",
   "execution_count": null,
   "metadata": {},
   "outputs": [],
   "source": [
    "bins = np.linspace(min(India_soil_rainfall_30years[\"JANUARY NORMAL RAINFALL (Millimeters)\"]), max(India_soil_rainfall_30years[\"JANUARY NORMAL RAINFALL (Millimeters)\"]), 4)\n",
    "India_soil_rainfall_30years['JANUARY NORMAL RAINFALL (Millimeters)-binned'] = pd.cut(India_soil_rainfall_30years['JANUARY NORMAL RAINFALL (Millimeters)'], bins, labels=group_names, include_lowest=True)\n",
    "India_soil_rainfall_30years[\"JANUARY NORMAL RAINFALL (Millimeters)-binned\"].value_counts()"
   ]
  },
  {
   "cell_type": "code",
   "execution_count": null,
   "metadata": {},
   "outputs": [],
   "source": [
    "bins = np.linspace(min(India_soil_rainfall_30years[\"FEBRUARY NORMAL RAINFALL (Millimeters)\"]), max(India_soil_rainfall_30years[\"FEBRUARY NORMAL RAINFALL (Millimeters)\"]), 4)\n",
    "India_soil_rainfall_30years['FEBRUARY NORMAL RAINFALL (Millimeters)-binned'] = pd.cut(India_soil_rainfall_30years['FEBRUARY NORMAL RAINFALL (Millimeters)'], bins, labels=group_names, include_lowest=True)\n",
    "India_soil_rainfall_30years[\"FEBRUARY NORMAL RAINFALL (Millimeters)-binned\"].value_counts()"
   ]
  },
  {
   "cell_type": "code",
   "execution_count": null,
   "metadata": {},
   "outputs": [],
   "source": [
    "bins = np.linspace(min(India_soil_rainfall_30years[\"MARCH NORMAL RAINFALL (Millimeters)\"]), max(India_soil_rainfall_30years[\"MARCH NORMAL RAINFALL (Millimeters)\"]), 4)\n",
    "India_soil_rainfall_30years['MARCH NORMAL RAINFALL (Millimeters)-binned'] = pd.cut(India_soil_rainfall_30years['MARCH NORMAL RAINFALL (Millimeters)'], bins, labels=group_names, include_lowest=True)\n",
    "India_soil_rainfall_30years[\"MARCH NORMAL RAINFALL (Millimeters)-binned\"].value_counts()"
   ]
  },
  {
   "cell_type": "code",
   "execution_count": null,
   "metadata": {},
   "outputs": [],
   "source": [
    "bins = np.linspace(min(India_soil_rainfall_30years[\"APRIL NORMAL RAINFALL (Millimeters)\"]), max(India_soil_rainfall_30years[\"APRIL NORMAL RAINFALL (Millimeters)\"]), 4)\n",
    "India_soil_rainfall_30years['APRIL NORMAL RAINFALL (Millimeters)-binned'] = pd.cut(India_soil_rainfall_30years['APRIL NORMAL RAINFALL (Millimeters)'], bins, labels=group_names, include_lowest=True)\n",
    "India_soil_rainfall_30years[\"APRIL NORMAL RAINFALL (Millimeters)-binned\"].value_counts()"
   ]
  },
  {
   "cell_type": "code",
   "execution_count": null,
   "metadata": {},
   "outputs": [],
   "source": [
    "bins = np.linspace(min(India_soil_rainfall_30years[\"MAY NORMAL RAINFALL (Millimeters)\"]), max(India_soil_rainfall_30years[\"MAY NORMAL RAINFALL (Millimeters)\"]), 4)\n",
    "India_soil_rainfall_30years['MAY NORMAL RAINFALL (Millimeters)-binned'] = pd.cut(India_soil_rainfall_30years['MAY NORMAL RAINFALL (Millimeters)'], bins, labels=group_names, include_lowest=True)\n",
    "India_soil_rainfall_30years[\"MAY NORMAL RAINFALL (Millimeters)-binned\"].value_counts()"
   ]
  },
  {
   "cell_type": "code",
   "execution_count": null,
   "metadata": {},
   "outputs": [],
   "source": [
    "bins = np.linspace(min(India_soil_rainfall_30years[\"JUNE NORMAL RAINFALL (Millimeters)\"]), max(India_soil_rainfall_30years[\"JUNE NORMAL RAINFALL (Millimeters)\"]), 4)\n",
    "India_soil_rainfall_30years['JUNE NORMAL RAINFALL (Millimeters)-binned'] = pd.cut(India_soil_rainfall_30years['JUNE NORMAL RAINFALL (Millimeters)'], bins, labels=group_names, include_lowest=True)\n",
    "India_soil_rainfall_30years[\"JUNE NORMAL RAINFALL (Millimeters)-binned\"].value_counts()"
   ]
  },
  {
   "cell_type": "code",
   "execution_count": null,
   "metadata": {},
   "outputs": [],
   "source": [
    "bins = np.linspace(min(India_soil_rainfall_30years[\"JULY NORMAL RAINFALL (Millimeters)\"]), max(India_soil_rainfall_30years[\"JULY NORMAL RAINFALL (Millimeters)\"]), 4)\n",
    "India_soil_rainfall_30years['JULY NORMAL RAINFALL (Millimeters)-binned'] = pd.cut(India_soil_rainfall_30years['JULY NORMAL RAINFALL (Millimeters)'], bins, labels=group_names, include_lowest=True)\n",
    "India_soil_rainfall_30years[\"JULY NORMAL RAINFALL (Millimeters)-binned\"].value_counts()"
   ]
  },
  {
   "cell_type": "code",
   "execution_count": null,
   "metadata": {},
   "outputs": [],
   "source": [
    "bins = np.linspace(min(India_soil_rainfall_30years[\"AUGUST NORMAL RAINFALL (Millimeters)\"]), max(India_soil_rainfall_30years[\"AUGUST NORMAL RAINFALL (Millimeters)\"]), 4)\n",
    "India_soil_rainfall_30years['AUGUST NORMAL RAINFALL (Millimeters)-binned'] = pd.cut(India_soil_rainfall_30years['AUGUST NORMAL RAINFALL (Millimeters)'], bins, labels=group_names, include_lowest=True)\n",
    "India_soil_rainfall_30years[\"AUGUST NORMAL RAINFALL (Millimeters)-binned\"].value_counts()"
   ]
  },
  {
   "cell_type": "code",
   "execution_count": null,
   "metadata": {},
   "outputs": [],
   "source": [
    "bins = np.linspace(min(India_soil_rainfall_30years[\"SEPTEMBER NORMAL RAINFALL (Millimeters)\"]), max(India_soil_rainfall_30years[\"SEPTEMBER NORMAL RAINFALL (Millimeters)\"]), 4)\n",
    "India_soil_rainfall_30years['SEPTEMBER NORMAL RAINFALL (Millimeters)-binned'] = pd.cut(India_soil_rainfall_30years['SEPTEMBER NORMAL RAINFALL (Millimeters)'], bins, labels=group_names, include_lowest=True)\n",
    "India_soil_rainfall_30years[\"SEPTEMBER NORMAL RAINFALL (Millimeters)-binned\"].value_counts()"
   ]
  },
  {
   "cell_type": "code",
   "execution_count": null,
   "metadata": {},
   "outputs": [],
   "source": [
    "bins = np.linspace(min(India_soil_rainfall_30years[\"OCTOBER NORMAL RAINFALL (Millimeters)\"]), max(India_soil_rainfall_30years[\"OCTOBER NORMAL RAINFALL (Millimeters)\"]), 4)\n",
    "India_soil_rainfall_30years['OCTOBER NORMAL RAINFALL (Millimeters)-binned'] = pd.cut(India_soil_rainfall_30years['OCTOBER NORMAL RAINFALL (Millimeters)'], bins, labels=group_names, include_lowest=True)\n",
    "India_soil_rainfall_30years[\"OCTOBER NORMAL RAINFALL (Millimeters)-binned\"].value_counts()"
   ]
  },
  {
   "cell_type": "code",
   "execution_count": null,
   "metadata": {},
   "outputs": [],
   "source": [
    "bins = np.linspace(min(India_soil_rainfall_30years[\"NOVEMBER NORMAL RAINFALL (Millimeters)\"]), max(India_soil_rainfall_30years[\"NOVEMBER NORMAL RAINFALL (Millimeters)\"]), 4)\n",
    "India_soil_rainfall_30years['NOVEMBER NORMAL RAINFALL (Millimeters)-binned'] = pd.cut(India_soil_rainfall_30years['NOVEMBER NORMAL RAINFALL (Millimeters)'], bins, labels=group_names, include_lowest=True)\n",
    "India_soil_rainfall_30years[\"NOVEMBER NORMAL RAINFALL (Millimeters)-binned\"].value_counts()"
   ]
  },
  {
   "cell_type": "code",
   "execution_count": null,
   "metadata": {},
   "outputs": [],
   "source": [
    "bins = np.linspace(min(India_soil_rainfall_30years[\"DECEMBER NORMAL RAINFALL (Millimeters)\"]), max(India_soil_rainfall_30years[\"DECEMBER NORMAL RAINFALL (Millimeters)\"]), 4)\n",
    "India_soil_rainfall_30years['DECEMBER NORMAL RAINFALL (Millimeters)-binned'] = pd.cut(India_soil_rainfall_30years['DECEMBER NORMAL RAINFALL (Millimeters)'], bins, labels=group_names, include_lowest=True)\n",
    "India_soil_rainfall_30years[\"DECEMBER NORMAL RAINFALL (Millimeters)-binned\"].value_counts()"
   ]
  },
  {
   "cell_type": "code",
   "execution_count": null,
   "metadata": {},
   "outputs": [],
   "source": [
    "bins = np.linspace(min(India_soil_rainfall_30years[\"ANNUAL NORMAL RAINFALL (Millimeters)\"]), max(India_soil_rainfall_30years[\"ANNUAL NORMAL RAINFALL (Millimeters)\"]), 4)\n",
    "India_soil_rainfall_30years['ANNUAL NORMAL RAINFALL (Millimeters)-binned'] = pd.cut(India_soil_rainfall_30years['ANNUAL NORMAL RAINFALL (Millimeters)'], bins, labels=group_names, include_lowest=True)\n",
    "India_soil_rainfall_30years[\"ANNUAL NORMAL RAINFALL (Millimeters)-binned\"].value_counts()"
   ]
  },
  {
   "cell_type": "code",
   "execution_count": null,
   "metadata": {},
   "outputs": [],
   "source": [
    "plt.pyplot.bar(group_names, India_soil_rainfall_30years[\"ANNUAL NORMAL RAINFALL (Millimeters)-binned\"].value_counts(),color='yellow')\n",
    "plt.pyplot.xlabel(\"ANNUAL NORMAL RAINFALL\")\n",
    "plt.pyplot.ylabel(\"count\")\n",
    "plt.pyplot.title(\"ANNUAL NORMAL RAINFALL bins\")"
   ]
  }
 ],
 "metadata": {
  "kernelspec": {
   "display_name": "Python 3",
   "language": "python",
   "name": "python3"
  },
  "language_info": {
   "codemirror_mode": {
    "name": "ipython",
    "version": 3
   },
   "file_extension": ".py",
   "mimetype": "text/x-python",
   "name": "python",
   "nbconvert_exporter": "python",
   "pygments_lexer": "ipython3",
   "version": "3.10.11"
  }
 },
 "nbformat": 4,
 "nbformat_minor": 5
}
